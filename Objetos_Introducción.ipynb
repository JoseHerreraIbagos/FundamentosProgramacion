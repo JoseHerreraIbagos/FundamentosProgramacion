{
  "nbformat": 4,
  "nbformat_minor": 0,
  "metadata": {
    "celltoolbar": "Slideshow",
    "kernelspec": {
      "display_name": "Python 3",
      "language": "python",
      "name": "python3"
    },
    "language_info": {
      "codemirror_mode": {
        "name": "ipython",
        "version": 3
      },
      "file_extension": ".py",
      "mimetype": "text/x-python",
      "name": "python",
      "nbconvert_exporter": "python",
      "pygments_lexer": "ipython3",
      "version": "3.7.7"
    },
    "colab": {
      "name": "Objetos Introducción.ipynb",
      "provenance": [],
      "collapsed_sections": [],
      "include_colab_link": true
    }
  },
  "cells": [
    {
      "cell_type": "markdown",
      "metadata": {
        "id": "view-in-github",
        "colab_type": "text"
      },
      "source": [
        "<a href=\"https://colab.research.google.com/github/JoseHerreraIbagos/FundamentosProgramacion/blob/master/Objetos_Introducci%C3%B3n.ipynb\" target=\"_parent\"><img src=\"https://colab.research.google.com/assets/colab-badge.svg\" alt=\"Open In Colab\"/></a>"
      ]
    },
    {
      "cell_type": "markdown",
      "metadata": {
        "id": "QFwMTyYnEHAR"
      },
      "source": [
        "# Programación Avanzada"
      ]
    },
    {
      "cell_type": "markdown",
      "metadata": {
        "id": "xez_TeW0EHAd"
      },
      "source": [
        "## Por José Roberto Herrera"
      ]
    },
    {
      "cell_type": "markdown",
      "metadata": {
        "id": "ft2OMPhvEHAe"
      },
      "source": [
        "![Logouis](https://drive.google.com/uc?id=1TIhnssVsy9UhcVUnQPmnSPr3B3esGW5m)"
      ]
    },
    {
      "cell_type": "markdown",
      "metadata": {
        "id": "ISUHmffSEHAf"
      },
      "source": [
        "# Programación orientada a objetos"
      ]
    },
    {
      "cell_type": "markdown",
      "metadata": {
        "id": "ijAKgcgxEHAf"
      },
      "source": [
        "En las clases anteriores aprendimos a solucionar problemas utilizando selecciones, iteraciones y funciones. Sin embargo estas características de los lenguajes de programación no son suficientes para desarrollar una interfaz gráfica. (Graphical User Interface, GUI) o desarrollar software a gran escala."
      ]
    },
    {
      "cell_type": "markdown",
      "metadata": {
        "scrolled": true,
        "id": "DVarymzYEHAg"
      },
      "source": [
        "![Objeto-gui](https://drive.google.com/uc?id=1LMVC_GWQoP_KqnOg4zS1HxZUHhEMWpt9)"
      ]
    },
    {
      "cell_type": "markdown",
      "metadata": {
        "id": "IUud-_8zEHAh"
      },
      "source": [
        "# Clases para objetos\n",
        "\n",
        "Ya vimos como utilizar objetos y como implementar métodos. Los objetos son aquellos creados por las **clases**. La programación orientada a objetos involucra a los objetos para crear programas. Un **objeto** representa una entidad en el mundo real que puede ser identificado.  Por ejemplo una persona, una mesa, un círculo, un botón, todos son objetos!!"
      ]
    },
    {
      "cell_type": "markdown",
      "metadata": {
        "id": "-5L7YtK5EHAh"
      },
      "source": [
        "Un objeto tiene 3 componentes únicas: **identidad**, **estado**, **comportamiento.**\n"
      ]
    },
    {
      "cell_type": "markdown",
      "metadata": {
        "id": "z6wUEB_uEHAi"
      },
      "source": [
        "- La identidad de un objetos es como el número de cédula, Python automáticamente le asigna a cada objeto una identidad única en la ejecución."
      ]
    },
    {
      "cell_type": "markdown",
      "metadata": {
        "id": "wf1V7tSjEHAi"
      },
      "source": [
        "- El estado de un objeto (también conocido como su propiedad o atributo) es representado por variables llamadas **campos de información**."
      ]
    },
    {
      "cell_type": "markdown",
      "metadata": {
        "id": "7VWNJNbqEHAj"
      },
      "source": [
        "Un objeto círculo por ejemplo, tiene un campo llamado *radio*. Que es una propiedad que caracteriza el círculo. Un objeto rectangular tiene la información *ancho* y *alto*, que son propiedades que caracterizan el rectángulo."
      ]
    },
    {
      "cell_type": "markdown",
      "metadata": {
        "id": "zDC4wUUCEHAj"
      },
      "source": [
        "- Python utiliza métodos para el **comportamiento** de los objetos (también se conocen como acciones). Recuerde que los métodos están definidos por medio de funciones. Se hace que un objeto realice una acción invocando un método en ese objeto."
      ]
    },
    {
      "cell_type": "markdown",
      "metadata": {
        "scrolled": true,
        "id": "t3cc3bYlEHAj"
      },
      "source": [
        " Por ejemplo: puede definir métodos nombrados como getArea() y getPerimeter() para objetos tipo círculos. Un objeto del círculo puede entonces  invocarse por el método getArea() para regresar el área y  el método getPerimeter()  para regresar el perímetro."
      ]
    },
    {
      "cell_type": "markdown",
      "metadata": {
        "id": "g5BFNqZZEHAk"
      },
      "source": [
        "Los objetos del mismo tipo se definen utilizando una clase común. Las relaciones entre clases y objetos son análogas a las de una fabrica de auto-móviles y un automóvil. Puede realizar cuantos automóviles (objetos) quiera de una sola fábrica (clase)."
      ]
    },
    {
      "cell_type": "markdown",
      "metadata": {
        "id": "J630XDOdEHAk"
      },
      "source": [
        "Una clase de Python utiliza **variables** para almacenar los campos de datos y define métodos para realizar acciones. Una clases es una especie de *plantilla* o *plano* que define cuales son los campos de datos y los métodos."
      ]
    },
    {
      "cell_type": "markdown",
      "metadata": {
        "id": "ye-8_VkqEHAl"
      },
      "source": [
        "Un **objeto** es un **elemento** o un caso específico de una clase y se puede crear tantos casos como sea requerido. Crear un caso se conoce como una “instanciación” pero los objetos y las intancias (peticiones) normalmente se utilizan de manera intercambiable así que: un **objeto** es una **instancia** y una **instancia** es un **objeto**."
      ]
    },
    {
      "cell_type": "markdown",
      "metadata": {
        "id": "2wi508_FEHAl"
      },
      "source": [
        "# Definiendo una clase."
      ]
    },
    {
      "cell_type": "markdown",
      "metadata": {
        "id": "f0hkF11yEHAm"
      },
      "source": [
        "Adicional a utilizar las variables para guardar campos de datos y definir métodos, una clase provee un método especial llamado __init__, este método se conoce como el inicializador, es invocado para inicializar un estado del objeto cuando este es creado. Un inicializador puede realizar cualquier acción pero dichos inicializadores son designados para acciones de inicialización como crear los campos de información con valores iniciales."
      ]
    },
    {
      "cell_type": "markdown",
      "metadata": {
        "id": "uDXliXOaEHAm"
      },
      "source": [
        "<div class=\"alert alert-warning\">**Nota**: En inglés no se acostumbra usar sinónimos para términos definidos a una acción específica, a veces desgasta repetir una palabra tantas veces pero necesario.</div>\n"
      ]
    },
    {
      "cell_type": "code",
      "metadata": {
        "id": "w1th460VEHAn"
      },
      "source": [
        "class ClassName:\n",
        "    inicializador\n",
        "    metodos"
      ],
      "execution_count": null,
      "outputs": []
    },
    {
      "cell_type": "markdown",
      "metadata": {
        "id": "0opOQ-wDEHAn"
      },
      "source": [
        "Se utiliza la palabra clave class seguido del nombre de la clase y el signo \":\". El inicializador siempre se llama \\_\\_init\\_\\_ el cual es método especial. \n",
        "\n",
        "La clase más sencilla para crear objetos tipo circulo, que además tiene dos métodos, uno para calcular el área y otro para el perímetro, también podemos cambiar el valor del rádio. sería:"
      ]
    },
    {
      "cell_type": "code",
      "metadata": {
        "id": "de5TKp9SEHAo"
      },
      "source": [
        "class Circle:\n",
        "    def __init__(self, radius = 1):\n",
        "        self.radius = radius"
      ],
      "execution_count": null,
      "outputs": []
    },
    {
      "cell_type": "markdown",
      "metadata": {
        "id": "wze7WQ5VEHAo"
      },
      "source": [
        "# Construyendo objetos"
      ]
    },
    {
      "cell_type": "markdown",
      "metadata": {
        "id": "m1ImTq_fEHAp"
      },
      "source": [
        "Una vez creamos la clase podemos crear objetos de la clase con un **constructor**. El constructor realiza dos cosas:\n",
        "\n",
        "- Crea un objeto en la memoria para la clase.\n",
        "- Invoca el método \\_\\_init\\_\\_ para inicializar el objeto.\n",
        "\n",
        "Todos los métodos, incluyendo el inicializador tienen como primer parámetro la palábra clave *self*. El *self* en el método **init** es definido automáticamente como referencia del objeto que se acaba de crear. \n",
        "\n",
        "Se puede especificar cualquier nombre para este parámetro pero por convención *self* es utilizado, no solamente acá sino en muchos otros lenguajes."
      ]
    },
    {
      "cell_type": "markdown",
      "metadata": {
        "id": "c-nv3cnqEHAp"
      },
      "source": [
        "La sintaxis para el constructor es la siguiente:"
      ]
    },
    {
      "cell_type": "code",
      "metadata": {
        "id": "grzSGMbTEHAq"
      },
      "source": [
        "ClassName(Arguments)"
      ],
      "execution_count": null,
      "outputs": []
    },
    {
      "cell_type": "markdown",
      "metadata": {
        "id": "Dzomp_9cEHAq"
      },
      "source": [
        "Los argumentos en el constructor deben ser iguales a los definidos en el método **init** sin el *self*. Por ejemplo:\n",
        "\n",
        "__init__(self, radius = 1):\n",
        "\n",
        "Indica que se debe crear suministrando un valor para el rádio\n",
        "\n",
        "Pero este valor es opcional y si no se invoca el valor predeterminado es 1.\n",
        "\n",
        "El orden el que suceden las cosas es: Primero el Objeto Circle se crea en la memoria y luego se invoca el inicializador para establecer el valor del radio."
      ]
    },
    {
      "cell_type": "markdown",
      "metadata": {
        "id": "6mWp7BI4EHAq"
      },
      "source": [
        "# Accesando miembros de los Objetos:"
      ]
    },
    {
      "cell_type": "markdown",
      "metadata": {
        "id": "yz-xGoJQEHAr"
      },
      "source": [
        "Un miembro de un objeto se refiere los campos de datos y sus métodos. Los campos de datos también son llamados *variables de instancia o peticiones* por que cada objeto tiene un valor específico para los campos de datos. Los métodos son también llamados *métodos de instancia o peticiones* por que un método es llamado por un objeto para realizar acciones en el objeto tales como cambiar valores en los campos de datos en el objeto. Para accesar un campo de objeto e invocar los métodos de los objetos se necesita asignar dicho objeto en una variable utilizando la sintaxis:"
      ]
    },
    {
      "cell_type": "code",
      "metadata": {
        "id": "XvMZyqbOEHAr"
      },
      "source": [
        "objectRefVar = ClassName(arguments)"
      ],
      "execution_count": null,
      "outputs": []
    },
    {
      "cell_type": "markdown",
      "metadata": {
        "id": "nziCg_14EHAr"
      },
      "source": [
        "Por ejemplo:"
      ]
    },
    {
      "cell_type": "code",
      "metadata": {
        "id": "FQy4v46wEHAr"
      },
      "source": [
        "a = Circle()\n",
        "b = Circle(5)"
      ],
      "execution_count": null,
      "outputs": []
    },
    {
      "cell_type": "markdown",
      "metadata": {
        "id": "bXw11FlqEHAs"
      },
      "source": [
        "Se puede acceder a los campos de datos del objeto e invocar sus métodos con el operador punto (.) también conocido como el *operador de acceso a miembro de objeto*. La sintaxis para utilizarlo es:"
      ]
    },
    {
      "cell_type": "code",
      "metadata": {
        "id": "-3nbtDWmEHAs"
      },
      "source": [
        "objectRefVar.datafield\n",
        "objectRefVar.method(args)"
      ],
      "execution_count": null,
      "outputs": []
    },
    {
      "cell_type": "markdown",
      "metadata": {
        "id": "sUlTRZkXEHAs"
      },
      "source": [
        "# El parámetro self"
      ]
    },
    {
      "cell_type": "markdown",
      "metadata": {
        "id": "Pm7B10JQEHAs"
      },
      "source": [
        "Self es el parámetro que referencia al objeto mismo. Si se utiliza self se puede acceder a los miembros del objeto en una definición de la clase. \n",
        "\n",
        "Por ejemplo se puede utilizar self.x para acceder la variable de instancia x y la sintaxis self.m1()  para invocar el método de instancia m1 para el objeto self (el mismo) en la clase.\n",
        "\n",
        "La disponibilidad de la variable de instancia es total para la clase una vez es creada."
      ]
    },
    {
      "cell_type": "code",
      "metadata": {
        "id": "hZOb9xFVEHAt"
      },
      "source": [
        "import numpy as np\n",
        "\n",
        "class Circle:\n",
        "    def __init__(self, radius = 1):\n",
        "        self.radius = radius\n",
        "    def getPerimeter(self):\n",
        "        return 2 * self.radius * np.pi\n",
        "    def getArea(self):\n",
        "        return self.radius * self.radius * np.pi\n",
        "    def setRadius(self, radius):\n",
        "        self.radius = radius"
      ],
      "execution_count": null,
      "outputs": []
    },
    {
      "cell_type": "code",
      "metadata": {
        "id": "Uk9clGM3EHAt"
      },
      "source": [
        "a=Circle()"
      ],
      "execution_count": null,
      "outputs": []
    },
    {
      "cell_type": "code",
      "metadata": {
        "scrolled": true,
        "id": "dKzPEkAWEHAt"
      },
      "source": [
        "#from Circle import Circle\n",
        "\n",
        "def main():\n",
        "    circle1 = Circle()\n",
        "    print (\"El área del círculo de radio\", circle1.radius , \"es\", circle1.getArea())\n",
        "    circle2 = Circle(25)\n",
        "    print (\"El área del círculo de radio\", circle2.radius , \"es\", circle2.getArea())\n",
        "    circle3 = Circle(125)\n",
        "    print (\"El área del círculo de radio\", circle3.radius , \"es\", circle3.getArea())\n",
        "\n",
        "main()"
      ],
      "execution_count": null,
      "outputs": []
    },
    {
      "cell_type": "markdown",
      "metadata": {
        "id": "7dO9JBJMEHAu"
      },
      "source": [
        "# Diagramas UML"
      ]
    },
    {
      "cell_type": "markdown",
      "metadata": {
        "id": "wAwpr4fqEHAu"
      },
      "source": [
        "*Unified Modeling Language* (Lenguaje unificado de modelado), es independiente del lenguaje de programación, es decir: se utiliza el mismo modelo y notación"
      ]
    },
    {
      "cell_type": "markdown",
      "metadata": {
        "id": "d0x225rCEHAu"
      },
      "source": [
        "![UML](https://drive.google.com/uc?id=1Q_wXbWZBwWPL40t5t_9hYmFWJWxI5AVP)"
      ]
    },
    {
      "cell_type": "markdown",
      "metadata": {
        "id": "21QKIG_3EHAu"
      },
      "source": [
        "![TV](https://drive.google.com/uc?id=1voIFWKYR1ZUF1otQ0VToy46YUfUqenLR)\r\n"
      ]
    },
    {
      "cell_type": "code",
      "metadata": {
        "id": "Aa8mfl7uEHAv"
      },
      "source": [
        "class TV:\n",
        "    def __init__(self):\n",
        "        self.channel = 1\n",
        "        self.volumeLevel = 0\n",
        "        self.on = False\n",
        "    def turnOn(self):\n",
        "        self.on = True\n",
        "    def turnOff(self) :\n",
        "        self.on = False\n",
        "    def getChannel(self):\n",
        "        return self.channel\n",
        "    def setChannel(self, channel):\n",
        "        if self.on and 1 <= channel <= 120:\n",
        "            self.channel = channel\n",
        "    def getVolumeLevel(self):\n",
        "        return self.volumeLevel\n",
        "    def setVolume(self, volumeLevel):\n",
        "        if self.on and 1 <= volumeLevel <= 7:\n",
        "            self.volumeLevel = volumeLevel\n",
        "    def channelUp(self):\n",
        "        if self.on and self.channel < 120:\n",
        "            self.channel += 1\n",
        "    def channelDown(self):\n",
        "        if self.on and self.channel > 1:\n",
        "            self.channel -= 1\n",
        "    def volumeUp(self):\n",
        "        if self.on and self.volumeLevel < 7:\n",
        "            self.volumeLevel += 1\n",
        "    def volumeDown(self):\n",
        "        if self.on and self.volumeLevel > 1:\n",
        "            self.volumeLevel -= 1"
      ],
      "execution_count": null,
      "outputs": []
    },
    {
      "cell_type": "code",
      "metadata": {
        "id": "GmR7ZwvdEHAv"
      },
      "source": [
        "#from TV import TV\n",
        "\n",
        "def main():\n",
        "    \n",
        "    tv1 = TV()\n",
        "    tv1.turnOn()\n",
        "    tv1.setChannel(30)\n",
        "    tv1.setVolume(3)\n",
        "    tv2 = TV()\n",
        "    \n",
        "    tv2.turnOn()\n",
        "    tv2.channelUp()\n",
        "    tv2.channelUp()\n",
        "    tv2.volumeUp()\n",
        "    print (\"El canal del tv1 es: \", tv1.getChannel() ,\\\n",
        "    \"y el volumen es: \", tv1.getVolumeLevel() )\n",
        "    print (\"El canal del tv2 es: \", tv2.getChannel() ,\\\n",
        "    \"y el volumen es: \", tv2.getVolumeLevel() )\n",
        "main() "
      ],
      "execution_count": null,
      "outputs": []
    }
  ]
}