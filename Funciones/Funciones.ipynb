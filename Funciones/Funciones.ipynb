{
  "nbformat": 4,
  "nbformat_minor": 0,
  "metadata": {
    "celltoolbar": "Slideshow",
    "kernelspec": {
      "display_name": "Python 3",
      "language": "python",
      "name": "python3"
    },
    "language_info": {
      "codemirror_mode": {
        "name": "ipython",
        "version": 3
      },
      "file_extension": ".py",
      "mimetype": "text/x-python",
      "name": "python",
      "nbconvert_exporter": "python",
      "pygments_lexer": "ipython3",
      "version": "3.7.3"
    },
    "colab": {
      "name": "Funciones.ipynb",
      "provenance": [],
      "toc_visible": true,
      "include_colab_link": true
    }
  },
  "cells": [
    {
      "cell_type": "markdown",
      "metadata": {
        "id": "view-in-github",
        "colab_type": "text"
      },
      "source": [
        "<a href=\"https://colab.research.google.com/github/JoseHerreraIbagos/FundamentosProgramacion/blob/master/Funciones/Funciones.ipynb\" target=\"_parent\"><img src=\"https://colab.research.google.com/assets/colab-badge.svg\" alt=\"Open In Colab\"/></a>"
      ]
    },
    {
      "cell_type": "markdown",
      "metadata": {
        "id": "B-2jpVzGsAjA",
        "colab_type": "text"
      },
      "source": [
        "# Programación Elemental"
      ]
    },
    {
      "cell_type": "markdown",
      "metadata": {
        "id": "ybamZhaDsAjC",
        "colab_type": "text"
      },
      "source": [
        "## Por José Roberto Herrera"
      ]
    },
    {
      "cell_type": "markdown",
      "metadata": {
        "id": "Ce_JhdRSsAjD",
        "colab_type": "text"
      },
      "source": [
        "![Logouis](https://drive.google.com/uc?id=1HOAq2Q13Jk18cJQyWC4eQCXZqwxREpEj)"
      ]
    },
    {
      "cell_type": "markdown",
      "metadata": {
        "id": "yBxiEBs9sAjD",
        "colab_type": "text"
      },
      "source": [
        "# Funciones"
      ]
    },
    {
      "cell_type": "markdown",
      "metadata": {
        "scrolled": true,
        "id": "nIoQsVYpsAjE",
        "colab_type": "text"
      },
      "source": [
        "Las funciones se utilizan para definir código reusable, organizar y simplificar código."
      ]
    },
    {
      "cell_type": "code",
      "metadata": {
        "scrolled": true,
        "id": "0DDVT8CWsAjF",
        "colab_type": "code",
        "colab": {}
      },
      "source": [
        "sum = 0\n",
        "for i in range(1, 11):\n",
        "    sum += i\n",
        "print(\"Suma de 1 a 10 es\", sum)\n",
        "\n",
        "sum = 0\n",
        "for i in range(20, 38):\n",
        "    sum += i\n",
        "print(\"Suma de 20 a 37 es\", sum)\n",
        "\n",
        "sum = 0\n",
        "for i in range(35, 50):\n",
        "    sum += i\n",
        "print(\"Suma de 35 a 49 es\", sum)"
      ],
      "execution_count": 0,
      "outputs": []
    },
    {
      "cell_type": "markdown",
      "metadata": {
        "id": "m7cb4sZ2sAjK",
        "colab_type": "text"
      },
      "source": [
        "# Definiendo una función"
      ]
    },
    {
      "cell_type": "markdown",
      "metadata": {
        "id": "etDZOU8TsAjK",
        "colab_type": "text"
      },
      "source": [
        "La sintaxis para definir una función es:"
      ]
    },
    {
      "cell_type": "code",
      "metadata": {
        "id": "qx0hcMdGsAjL",
        "colab_type": "code",
        "colab": {}
      },
      "source": [
        "def nombreFuncion(ListaDeParametros):\n",
        "    #Cuerpo de la función"
      ],
      "execution_count": 0,
      "outputs": []
    },
    {
      "cell_type": "markdown",
      "metadata": {
        "id": "fIT1r4JIsAjQ",
        "colab_type": "text"
      },
      "source": [
        "La funciones contiene el encabezado y el cuerpo, el encabezado comienza con la palabra clave *def*, seguida por el nombre y los parámetros, termina con *:*."
      ]
    },
    {
      "cell_type": "markdown",
      "metadata": {
        "id": "MQeiXvVOsAjR",
        "colab_type": "text"
      },
      "source": [
        "Las variables se conocen como *parámetros formales* o simplemente *parámetros*, cuando se invoca una función lo que se hace es pasarle un valor al parámetro y se le puede pasar un parámetro o argumento que ya existe en el código. *random.random()* es una función que no necesita parámetros."
      ]
    },
    {
      "cell_type": "markdown",
      "metadata": {
        "id": "aPgtdT-ZsAjR",
        "colab_type": "text"
      },
      "source": [
        "Las funciones pueden o no regresar valores, es enteramente opcional."
      ]
    },
    {
      "cell_type": "code",
      "metadata": {
        "id": "HMz1B_NusAjS",
        "colab_type": "code",
        "colab": {}
      },
      "source": [
        "def suma(n1, n2):\n",
        "    result = 0\n",
        "    for i in range(n1, n2+1):\n",
        "        result += 1\n",
        "    return result\n",
        "\n",
        "def main():\n",
        "    n1 = 45\n",
        "    n2 = 50\n",
        "    print (\"Suma de\", n1, \"a\", n2, \"es: \", suma(n1, n2))\n",
        "\n",
        "main()"
      ],
      "execution_count": 0,
      "outputs": []
    },
    {
      "cell_type": "markdown",
      "metadata": {
        "id": "dmR02y68sAjW",
        "colab_type": "text"
      },
      "source": [
        "Ya conocemos funciones de este tipo como **random.randint(a, b)**."
      ]
    },
    {
      "cell_type": "code",
      "metadata": {
        "scrolled": true,
        "id": "jO4PnJDmsAjW",
        "colab_type": "code",
        "colab": {}
      },
      "source": [
        "max(5,2)\n",
        "help(max)"
      ],
      "execution_count": 0,
      "outputs": []
    },
    {
      "cell_type": "code",
      "metadata": {
        "id": "vt4-JMkOsAjb",
        "colab_type": "code",
        "colab": {}
      },
      "source": [
        "def max(num1, num2):\n",
        "    \"\"\"\n",
        "    max(a, b)\n",
        "        Regresa el valor más grande entre a y b\n",
        "    \"\"\"\n",
        "    if num1 > num2:\n",
        "        result = num1\n",
        "    else:\n",
        "        result = num2\n",
        "    return result\n",
        "\n",
        "def main() :\n",
        "    i = 5\n",
        "    j = 2\n",
        "    k = max(i, j)\n",
        "    print (\"El valor más grande entre\", i, \"y\", j, \"es\", k)\n",
        "    \n",
        "main()"
      ],
      "execution_count": 0,
      "outputs": []
    },
    {
      "cell_type": "code",
      "metadata": {
        "scrolled": false,
        "id": "3ImNvXBDsAjg",
        "colab_type": "code",
        "colab": {}
      },
      "source": [
        "help(max)"
      ],
      "execution_count": 0,
      "outputs": []
    },
    {
      "cell_type": "markdown",
      "metadata": {
        "id": "N9e32GlusAjk",
        "colab_type": "text"
      },
      "source": [
        "El uso de la función *main* es opcional pero es una buena costumbre tener una función principal con el funcionamiento general."
      ]
    },
    {
      "cell_type": "markdown",
      "metadata": {
        "id": "8nrX-T_vsAjk",
        "colab_type": "text"
      },
      "source": [
        "## Pila de llamadas"
      ]
    },
    {
      "cell_type": "markdown",
      "metadata": {
        "id": "l0rRRDZgsAjl",
        "colab_type": "text"
      },
      "source": [
        "Cuando una función es invocada  el sistema crea un *registro de activación* que almacena argumentos y variables de la función en un área de la memoria llamada *pila de llamadas*, cuando una función es llamada por otra función el registro de activación de la primera es dejado intacto y se crea uno nuevo para la nueva función.\n",
        "\n",
        "\n",
        "Cuando la función termina su trabajo regresa el control a quien la llamó y el registro de activación es eliminado de la pila de llamadas."
      ]
    },
    {
      "cell_type": "markdown",
      "metadata": {
        "id": "VO8ELiaesAjl",
        "colab_type": "text"
      },
      "source": [
        "![stacka.png](https://drive.google.com/uc?id=1oJdH0J-XlRSkaDzFKsKY2qQ9D2eInTWH)"
      ]
    },
    {
      "cell_type": "markdown",
      "metadata": {
        "id": "CXu5l4eWsAjm",
        "colab_type": "text"
      },
      "source": [
        "![stackb.png](https://drive.google.com/uc?id=1MqQIp26I27vdL-RhCxR6nIngsCX2dz0a)"
      ]
    },
    {
      "cell_type": "markdown",
      "metadata": {
        "id": "LxRHjYbosAjn",
        "colab_type": "text"
      },
      "source": [
        "![stackc.png](https://drive.google.com/uc?id=1F1UrdjGEaf3M1bkcwXStGazkKqvf-fzD)"
      ]
    },
    {
      "cell_type": "markdown",
      "metadata": {
        "id": "jbfxbTZ1sAjn",
        "colab_type": "text"
      },
      "source": [
        "## Funciones con y sin valores de regreso"
      ]
    },
    {
      "cell_type": "markdown",
      "metadata": {
        "id": "Vzy0CCVosAjo",
        "colab_type": "text"
      },
      "source": [
        "Cuando la función  no regresa valores se conoce como *void function* o función nula. Técnicamente todas las funciones regresan valores, python regresa el valor  especial *None*, así que se conoce como función None."
      ]
    },
    {
      "cell_type": "code",
      "metadata": {
        "id": "jLU_G1tVsAjp",
        "colab_type": "code",
        "colab": {}
      },
      "source": [
        "def sum(number1, number2):\n",
        "    total = number1 + number2\n",
        "print(sum(1, 2))"
      ],
      "execution_count": 0,
      "outputs": []
    },
    {
      "cell_type": "code",
      "metadata": {
        "id": "0BjoZ_RBsAjt",
        "colab_type": "code",
        "colab": {}
      },
      "source": [
        "# Calificación para la nota\n",
        "def imprimirNota(score):\n",
        "    if score < 0 or score > 100:\n",
        "        print(\"Nota inválida\")\n",
        "        return # Lo mismo que None\n",
        "    if score >= 90.0:\n",
        "        print('A')\n",
        "    elif score >= 80.0:\n",
        "        print('B')\n",
        "    elif score >= 70.0:\n",
        "        print('C')\n",
        "    elif score >= 60.0:\n",
        "        print('D')\n",
        "    else:\n",
        "        print('F')"
      ],
      "execution_count": 0,
      "outputs": []
    },
    {
      "cell_type": "code",
      "metadata": {
        "id": "Xe6IwFRisAjy",
        "colab_type": "code",
        "colab": {}
      },
      "source": [
        "print(imprimirNota(75))"
      ],
      "execution_count": 0,
      "outputs": []
    },
    {
      "cell_type": "markdown",
      "metadata": {
        "id": "YtOg5jDdsAj1",
        "colab_type": "text"
      },
      "source": [
        "## Argumentos posicionales y de palabra clave"
      ]
    },
    {
      "cell_type": "code",
      "metadata": {
        "id": "yoQUYlLTsAj2",
        "colab_type": "code",
        "colab": {}
      },
      "source": [
        "def nPrintln(mensaje, n):\n",
        "    for i in range(n):\n",
        "        print(mensaje)"
      ],
      "execution_count": 0,
      "outputs": []
    },
    {
      "cell_type": "markdown",
      "metadata": {
        "id": "CGXtNQoEsAj4",
        "colab_type": "text"
      },
      "source": [
        "Argumentos posicionales requieren que sean pasados en el mismo orden que sus respectivos parámetros en el encabezado de la función."
      ]
    },
    {
      "cell_type": "code",
      "metadata": {
        "scrolled": false,
        "id": "-yi_QZOasAj5",
        "colab_type": "code",
        "colab": {}
      },
      "source": [
        "nPrintln(\"Esto\" , 3)"
      ],
      "execution_count": 0,
      "outputs": []
    },
    {
      "cell_type": "markdown",
      "metadata": {
        "id": "i8N86rzUsAj8",
        "colab_type": "text"
      },
      "source": [
        "Los argumentos de palabra clave se pueden utilizar en en cualquier orden siempre y cuando se defina utilizando los nombres apropiados que corresponden dentro de la función."
      ]
    },
    {
      "cell_type": "code",
      "metadata": {
        "id": "8aS9Wx0psAj8",
        "colab_type": "code",
        "colab": {}
      },
      "source": [
        "nPrintln(n=3, mensaje=\"Esto\")"
      ],
      "execution_count": 0,
      "outputs": []
    },
    {
      "cell_type": "markdown",
      "metadata": {
        "id": "nI21pUGTsAkA",
        "colab_type": "text"
      },
      "source": [
        "Es posible mezclar estos dos tipos de argumentos pero los argumentos posicionales NO pueden aparecer después de cualquier argumento clave."
      ]
    },
    {
      "cell_type": "code",
      "metadata": {
        "id": "-4w1xheFsAkB",
        "colab_type": "code",
        "colab": {}
      },
      "source": [
        "def f(p1, p2, p3):\n",
        "    pass\n",
        "\n",
        "f(30, p2 = 4, p3 = 10)"
      ],
      "execution_count": 0,
      "outputs": []
    },
    {
      "cell_type": "code",
      "metadata": {
        "id": "chjlnfqIsAkE",
        "colab_type": "code",
        "colab": {}
      },
      "source": [
        "f(30, p2 = 4, 10)"
      ],
      "execution_count": 0,
      "outputs": []
    },
    {
      "cell_type": "markdown",
      "metadata": {
        "id": "dxaG8F8FsAkH",
        "colab_type": "text"
      },
      "source": [
        "## Pasando variables como argumentos"
      ]
    },
    {
      "cell_type": "code",
      "metadata": {
        "scrolled": true,
        "id": "Wz6nmRopsAkI",
        "colab_type": "code",
        "colab": {}
      },
      "source": [
        "def main():\n",
        "    x = 1\n",
        "    print (\"Antes de que se llama, x es\", x)\n",
        "    increment(x)\n",
        "    print (\"Después de que se llama, x es\", x)\n",
        "    \n",
        "def increment(n):\n",
        "    n += 1\n",
        "    print (\"\\tn dentro de la función es\", n)\n",
        "main()"
      ],
      "execution_count": 0,
      "outputs": []
    },
    {
      "cell_type": "markdown",
      "metadata": {
        "id": "1SY-xKT8sAkL",
        "colab_type": "text"
      },
      "source": [
        "## El alcance de las variables: Variables Locales y Globales"
      ]
    },
    {
      "cell_type": "markdown",
      "metadata": {
        "id": "OZXdK4GosAkL",
        "colab_type": "text"
      },
      "source": [
        "Las variables dentro de una función sólo viven mientras la función está en ejecución, cuando la función termina y no se encuentra en la pila de llamadas estas variables desaparecen, se conocen como locales."
      ]
    },
    {
      "cell_type": "code",
      "metadata": {
        "id": "t_uZORIUsAkM",
        "colab_type": "code",
        "colab": {}
      },
      "source": [
        "globalVar = 1\n",
        "def f1():\n",
        "    localVar = 2\n",
        "    print(globalVar)\n",
        "    print(localVar)\n",
        "f1()\n",
        "print(globalVar)\n",
        "print(localVar)"
      ],
      "execution_count": 0,
      "outputs": []
    },
    {
      "cell_type": "markdown",
      "metadata": {
        "id": "5nj88QKbsAkQ",
        "colab_type": "text"
      },
      "source": [
        "## Modularización de código"
      ]
    },
    {
      "cell_type": "markdown",
      "metadata": {
        "id": "zWXLzmbBsAkR",
        "colab_type": "text"
      },
      "source": [
        "Un código modularizado es más facil de mantener, permite su reutilización. Las funciones permiten modularizar este código y mejorar su calidad. En python basta con colocar un código dentro de un *archivo.py* para crear un módulo. Este módulo luego se importa en python para su utilización."
      ]
    },
    {
      "cell_type": "code",
      "metadata": {
        "id": "mmxzDbBNsAkR",
        "colab_type": "code",
        "colab": {}
      },
      "source": [
        "# -*- coding: utf-8 -*-\n",
        "\n",
        "\"\"\"\n",
        "Ayuda general del módulo\n",
        "\"\"\"\n",
        "def gcd(n1, n2):\n",
        "    \"\"\"\n",
        "    Regresa el comun denominador mas grande\n",
        "    \"\"\"\n",
        "    gcd = 1 \n",
        "    k = 2\n",
        " \n",
        "    while k <= n1 and k <= n2:\n",
        "        if n1 % k == 0 and n2 % k == 0:\n",
        "            gcd = k\n",
        "        k += 1\n",
        "    return gcd\n",
        "\n",
        "\n",
        "def otracosa():\n",
        "    \"\"\"\n",
        "    Una ayuda\n",
        "    \"\"\"\n",
        "    pass"
      ],
      "execution_count": 0,
      "outputs": []
    },
    {
      "cell_type": "code",
      "metadata": {
        "id": "qQRL_RhwsAkU",
        "colab_type": "code",
        "colab": {}
      },
      "source": [
        "help (gcd)"
      ],
      "execution_count": 0,
      "outputs": []
    },
    {
      "cell_type": "code",
      "metadata": {
        "scrolled": true,
        "id": "kv8yDFaEsAkX",
        "colab_type": "code",
        "colab": {}
      },
      "source": [
        "def isPrime(number):\n",
        "    \"\"\"\n",
        "    Función que verifica que un número sea primo\n",
        "    \"\"\"\n",
        "    divisor = 2\n",
        "    while divisor <= number / 2:\n",
        "        if number % divisor == 0:\n",
        "            # Si es cierto el número no es primo\n",
        "            return False # El número no es primo\n",
        "        divisor += 1\n",
        "    return True # El número es primo\n",
        "\n",
        "def printPrimeNumbers(numberOfPrimes):\n",
        "    \"\"\"\n",
        "    Función que itera isPrime e imprime hasta N números primos en M líneas\n",
        "    \"\"\"\n",
        "    numberOfPrimesPerLine = 10 #Números de primos por linea\n",
        "    count = 0 # Conteo de números primos\n",
        "    number = 2 # El número a ser probado incial\n",
        "    linea = \"\" #Escritura por linea, inicialización\n",
        "    # En un bucle encuentra los números primos\n",
        "    while count < numberOfPrimes:\n",
        "        # Imprime el número primo e incrementa el conteo\n",
        "        if isPrime(number):\n",
        "            count += 1 # Incrementa el conteo\n",
        "            \n",
        "            linea += format(str(number),\"6s\") + \" \"\n",
        "            if count % numberOfPrimesPerLine == 0:\n",
        "                # Imprime el número primo y avanza a la siguiente línea\n",
        "                print(linea)\n",
        "                print(\"\\n\")\n",
        "                linea = \"\"\n",
        "\n",
        "            \n",
        "        # Verifica si el siguiente número es primo\n",
        "        number += 1\n",
        "def main():\n",
        "    print(\"Los primeros 50 números primos son: \")\n",
        "    printPrimeNumbers(100)\n",
        "    \n",
        "main()"
      ],
      "execution_count": 0,
      "outputs": []
    },
    {
      "cell_type": "markdown",
      "metadata": {
        "id": "77ua0PmCsAkb",
        "colab_type": "text"
      },
      "source": [
        "## Valores predeterminados"
      ]
    },
    {
      "cell_type": "markdown",
      "metadata": {
        "id": "oaMC1jjDsAkc",
        "colab_type": "text"
      },
      "source": [
        "Estas funciones no necesitan de todos los argumentos, algunos que tienen un valor predeterminado son opcionales."
      ]
    },
    {
      "cell_type": "code",
      "metadata": {
        "id": "6RBkhyAAsAkc",
        "colab_type": "code",
        "colab": {}
      },
      "source": [
        "def printArea(ancho = 1, alto = 2 ):\n",
        "    area = ancho * alto\n",
        "    print (\"ancho:\", ancho, \"\\talto:\", alto, \"\\tarea:\", area)\n",
        "printArea() \n",
        "printArea(4, 2.5)\n",
        "printArea(ancho = 3, alto = 5) \n",
        "printArea(alto = 5, ancho = 3) \n",
        "printArea(ancho = 1.2) \n",
        "printArea(alto = 6.2) "
      ],
      "execution_count": 0,
      "outputs": []
    },
    {
      "cell_type": "markdown",
      "metadata": {
        "id": "jsZ5znTDsAkh",
        "colab_type": "text"
      },
      "source": [
        "## Regresando multiples valores"
      ]
    },
    {
      "cell_type": "code",
      "metadata": {
        "id": "UU2iSJnHsAkj",
        "colab_type": "code",
        "colab": {}
      },
      "source": [
        "def sort(n1, n2):\n",
        "    if n1 < n2:\n",
        "        return n1, n2\n",
        "    else:\n",
        "        return n2, n1\n",
        "\n",
        "n1, n2= sort(3, 2)\n",
        "print (\"n1 es\", n1)\n",
        "print (\"n2 es\", n2)"
      ],
      "execution_count": 0,
      "outputs": []
    },
    {
      "cell_type": "markdown",
      "metadata": {
        "id": "770D_1vwsAkp",
        "colab_type": "text"
      },
      "source": [
        "# Abstracción de funciones y refinamiento por etapas.\n",
        "\n",
        "La clave para desarrollar programas es aplicar el concepto de abstracción, la abstracción de funciones separa el uso de la función y su implementación. Un programa cliente, *client* puede utilizar una función sin saber como es implementada, los detalles de la función están encapsulados y ocultos del cliente que llama la función. \n",
        "\n",
        "Si se decide cambiar la implementación el programa cliente no será afectado siempre que no se cambie el encabezado de la función.\n",
        "\n",
        "Ya han utilizado algunas funciones python y el estudio de la forma en la que se implementan ha sido opcional, lo único con lo que ha contado es con una buena documentación y la documentación de las librerías/módulos ya vistos debe ser su fuente de inspiración al escribir sus propias documentaciones.\n",
        "\n",
        "Divida y conquiste!, el refinamiento por etapas requiere que usted divida su problema en pequeños sub-problemas que a su vez pueden ser divididos por problemas cada vez más pequeños."
      ]
    }
  ]
}